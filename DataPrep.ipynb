{
  "nbformat": 4,
  "nbformat_minor": 0,
  "metadata": {
    "colab": {
      "provenance": [],
      "mount_file_id": "https://github.com/kalsun/SupML/blob/main/DataPrep2.ipynb",
      "authorship_tag": "ABX9TyPsRNYr0/FvjBpCisFQyfOl",
      "include_colab_link": true
    },
    "kernelspec": {
      "name": "python3",
      "display_name": "Python 3"
    },
    "language_info": {
      "name": "python"
    }
  },
  "cells": [
    {
      "cell_type": "markdown",
      "metadata": {
        "id": "view-in-github",
        "colab_type": "text"
      },
      "source": [
        "<a href=\"https://colab.research.google.com/github/kalsun/SupML/blob/main/DataPrep.ipynb\" target=\"_parent\"><img src=\"https://colab.research.google.com/assets/colab-badge.svg\" alt=\"Open In Colab\"/></a>"
      ]
    },
    {
      "cell_type": "code",
      "source": [
        "import pandas as pd\n",
        "import numpy as np\n",
        "import matplotlib.pyplot as plt\n",
        "import seaborn as sns"
      ],
      "metadata": {
        "id": "37Ydx0KTgFqY"
      },
      "execution_count": null,
      "outputs": []
    },
    {
      "cell_type": "markdown",
      "source": [
        "Import Dataset"
      ],
      "metadata": {
        "id": "aXswd8zSjFpT"
      }
    },
    {
      "cell_type": "code",
      "source": [
        "dataset = pd.read_csv('Data.csv')"
      ],
      "metadata": {
        "id": "tZZHK1qXgbw7"
      },
      "execution_count": null,
      "outputs": []
    },
    {
      "cell_type": "markdown",
      "source": [
        "Prepare Data"
      ],
      "metadata": {
        "id": "TjMIEy3BvAcx"
      }
    },
    {
      "cell_type": "code",
      "source": [
        "d = {'Country': [\"France\", \"Spain\", \"Germany\", \"Spain\", \"Germany\", \"France\", \"Spain\", \"France\", \"Germany\", \"France\"]\n",
        "     , 'Age': [44, 27, 30, 38, 40, 35, , 48, 50, 37]\n",
        "\n",
        "\n",
        "     }\n",
        ">>> df = pd.DataFrame(data=d)\n",
        ">>> df\n",
        "   col1  col2\n",
        "0     1     3\n",
        "1     2     4\n",
        "dataset = pd.DataFrame"
      ],
      "metadata": {
        "id": "LqU_-nG5vEnP"
      },
      "execution_count": null,
      "outputs": []
    }
  ]
}