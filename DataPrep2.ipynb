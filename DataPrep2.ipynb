{
  "nbformat": 4,
  "nbformat_minor": 0,
  "metadata": {
    "colab": {
      "provenance": [],
      "mount_file_id": "https://github.com/kalsun/SupML/blob/main/DataPrep2.ipynb",
      "authorship_tag": "ABX9TyMGLK1XCoAWiThrsVshOUkf",
      "include_colab_link": true
    },
    "kernelspec": {
      "name": "python3",
      "display_name": "Python 3"
    },
    "language_info": {
      "name": "python"
    }
  },
  "cells": [
    {
      "cell_type": "markdown",
      "metadata": {
        "id": "view-in-github",
        "colab_type": "text"
      },
      "source": [
        "<a href=\"https://colab.research.google.com/github/kalsun/SupML/blob/main/DataPrep2.ipynb\" target=\"_parent\"><img src=\"https://colab.research.google.com/assets/colab-badge.svg\" alt=\"Open In Colab\"/></a>"
      ]
    },
    {
      "cell_type": "code",
      "source": [
        "import pandas as pd\n",
        "import numpy as np\n",
        "import matplotlib.pyplot as plt\n",
        "import seaborn as sns"
      ],
      "metadata": {
        "id": "37Ydx0KTgFqY"
      },
      "execution_count": 1,
      "outputs": []
    },
    {
      "cell_type": "markdown",
      "source": [
        "Import Dataset"
      ],
      "metadata": {
        "id": "aXswd8zSjFpT"
      }
    },
    {
      "cell_type": "code",
      "source": [
        "#dataset = pd.read_csv('Data.csv')"
      ],
      "metadata": {
        "id": "tZZHK1qXgbw7"
      },
      "execution_count": null,
      "outputs": []
    },
    {
      "cell_type": "markdown",
      "source": [
        "Prepare Data"
      ],
      "metadata": {
        "id": "TjMIEy3BvAcx"
      }
    },
    {
      "cell_type": "code",
      "source": [
        "d = {'Country': ['France', 'Spain', 'Germany', 'Spain', 'Germany', 'France', 'Spain', 'France', 'Germany', 'France']\n",
        "     , 'Age': [44, 27, 30, 38, 40, 35, pd.NA , 48, 50, 37]\n",
        "     , 'Salary' : [72000, 48000, 54000, 61000, pd.NA  , 58000, 52000, 79000, 83000, 67000 ]\n",
        "     , 'Purchased' : ['No', 'Yes', 'No', 'No', 'Yes', 'Yes', 'No', 'Yes', 'No', 'Yes']\n",
        "     }\n",
        "dataset = pd.DataFrame(data=d)\n",
        "print(dataset)"
      ],
      "metadata": {
        "colab": {
          "base_uri": "https://localhost:8080/"
        },
        "id": "LqU_-nG5vEnP",
        "outputId": "b57a029a-9bb3-4290-b5b2-f37168bafa6d"
      },
      "execution_count": 5,
      "outputs": [
        {
          "output_type": "stream",
          "name": "stdout",
          "text": [
            "   Country   Age Salary Purchased\n",
            "0   France    44  72000        No\n",
            "1    Spain    27  48000       Yes\n",
            "2  Germany    30  54000        No\n",
            "3    Spain    38  61000        No\n",
            "4  Germany    40   <NA>       Yes\n",
            "5   France    35  58000       Yes\n",
            "6    Spain  <NA>  52000        No\n",
            "7   France    48  79000       Yes\n",
            "8  Germany    50  83000        No\n",
            "9   France    37  67000       Yes\n"
          ]
        }
      ]
    }
  ]
}